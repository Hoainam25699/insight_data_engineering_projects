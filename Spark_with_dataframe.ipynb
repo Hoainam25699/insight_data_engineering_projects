{
 "cells": [
  {
   "cell_type": "code",
   "execution_count": 34,
   "metadata": {},
   "outputs": [],
   "source": [
    "from pyspark.sql import SparkSession\n",
    "spark = SparkSession \\\n",
    ".builder \\\n",
    ".appName(\"plops\") \\\n",
    ".getOrCreate()"
   ]
  },
  {
   "cell_type": "code",
   "execution_count": 35,
   "metadata": {},
   "outputs": [],
   "source": [
    "from collections import OrderedDict\n",
    "config_schema = OrderedDict()\n",
    "config_schema = [\n",
    "    ('OccupancyDateTime', 'STRING'),\n",
    "    ('PaidOccupancy', 'INT'),\n",
    "    ('BlockfaceName', 'STRING'),\n",
    "    ('SideOfStreet', 'STRING'),\n",
    "    ('SourceElementKey', 'INT'),\n",
    "    ('ParkingTimeLimitCategory', 'STRING'),\n",
    "    ('ParkingSpaceCount', 'INT'),\n",
    "    ('PaidParkingArea', 'STRING'),\n",
    "    ('PaidParkingSubArea', 'STRING'),\n",
    "    ('PaidParkingRate', 'STRING'),\n",
    "    ('ParkingCategory', 'STRING'),\n",
    "    ('Location', 'STRING'),\n",
    "    ('emptycol1','STRING'),\n",
    "    ('emptycol2','STRING'),\n",
    "    ('emptycol3','STRING'),\n",
    "    ('emptycol4','STRING'),\n",
    "    ('emptycol5','STRING')\n",
    "]"
   ]
  },
  {
   "cell_type": "code",
   "execution_count": 36,
   "metadata": {},
   "outputs": [
    {
     "data": {
      "text/plain": [
       "'OccupancyDateTime STRING, PaidOccupancy INT, BlockfaceName STRING, SideOfStreet STRING, SourceElementKey INT, ParkingTimeLimitCategory STRING, ParkingSpaceCount INT, PaidParkingArea STRING, PaidParkingSubArea STRING, PaidParkingRate STRING, ParkingCategory STRING, Location STRING, emptycol1 STRING, emptycol2 STRING, emptycol3 STRING, emptycol4 STRING, emptycol5 STRING'"
      ]
     },
     "execution_count": 36,
     "metadata": {},
     "output_type": "execute_result"
    }
   ],
   "source": [
    "schema = \", \".join([\"{} {}\".format(col, type) for col, type in config_schema])\n",
    "schema"
   ]
  },
  {
   "cell_type": "code",
   "execution_count": 37,
   "metadata": {},
   "outputs": [],
   "source": [
    "df = None"
   ]
  },
  {
   "cell_type": "code",
   "execution_count": 38,
   "metadata": {},
   "outputs": [],
   "source": [
    "df = spark.read.csv(\n",
    "    \"s3a://project.datasets/Last_48_hours.csv\", header=True, mode=\"DROPMALFORMED\", schema=schema\n",
    "    #\"s3a://project.datasets/last_48h.csv.gz\", header=True, mode=\"DROPMALFORMED\", schema=schema\n",
    "    #\"s3a://project.datasets/2019-Paid-Parking-Occupancy.csv.gz\", header=True, mode=\"DROPMALFORMED\", schema=schema\n",
    ")"
   ]
  },
  {
   "cell_type": "code",
   "execution_count": 39,
   "metadata": {},
   "outputs": [
    {
     "data": {
      "text/plain": [
       "StructType(List(StructField(OccupancyDateTime,StringType,true),StructField(PaidOccupancy,IntegerType,true),StructField(BlockfaceName,StringType,true),StructField(SideOfStreet,StringType,true),StructField(SourceElementKey,IntegerType,true),StructField(ParkingTimeLimitCategory,StringType,true),StructField(ParkingSpaceCount,IntegerType,true),StructField(PaidParkingArea,StringType,true),StructField(PaidParkingSubArea,StringType,true),StructField(PaidParkingRate,StringType,true),StructField(ParkingCategory,StringType,true),StructField(Location,StringType,true),StructField(emptycol1,StringType,true),StructField(emptycol2,StringType,true),StructField(emptycol3,StringType,true),StructField(emptycol4,StringType,true),StructField(emptycol5,StringType,true)))"
      ]
     },
     "execution_count": 39,
     "metadata": {},
     "output_type": "execute_result"
    }
   ],
   "source": [
    "df.schema"
   ]
  },
  {
   "cell_type": "code",
   "execution_count": 40,
   "metadata": {},
   "outputs": [
    {
     "name": "stdout",
     "output_type": "stream",
     "text": [
      "+--------------------+-------------+--------------------+------------+----------------+------------------------+-----------------+---------------+------------------+---------------+---------------+--------------------+---------+---------+---------+---------+---------+\n",
      "|   OccupancyDateTime|PaidOccupancy|       BlockfaceName|SideOfStreet|SourceElementKey|ParkingTimeLimitCategory|ParkingSpaceCount|PaidParkingArea|PaidParkingSubArea|PaidParkingRate|ParkingCategory|            Location|emptycol1|emptycol2|emptycol3|emptycol4|emptycol5|\n",
      "+--------------------+-------------+--------------------+------------+----------------+------------------------+-----------------+---------------+------------------+---------------+---------------+--------------------+---------+---------+---------+---------+---------+\n",
      "|03/05/2019 10:14:...|            2|TERRY AVE BETWEEN...|          NE|           35730|                     240|                5| Denny Triangle|             North|           null|   Paid Parking|POINT (47.6159364...|     null|     null|     null|     null|     null|\n",
      "+--------------------+-------------+--------------------+------------+----------------+------------------------+-----------------+---------------+------------------+---------------+---------------+--------------------+---------+---------+---------+---------+---------+\n",
      "only showing top 1 row\n",
      "\n"
     ]
    }
   ],
   "source": [
    "df.show(1)"
   ]
  },
  {
   "cell_type": "code",
   "execution_count": 41,
   "metadata": {},
   "outputs": [],
   "source": [
    "df = df.drop(\"BlockfaceName\", \n",
    "             \"SideOfStreet\", \n",
    "             \"ParkingTimeLimitCategory\", \n",
    "             \"ParkingSpaceCount\", \n",
    "             \"PaidParkingArea\", \n",
    "             \"PaidParkingSubArea\",\n",
    "             \"PaidParkingRate\",\n",
    "             \"ParkingCategory\",\n",
    "             \"emptycol1\",\n",
    "             \"emptycol2\",\n",
    "             \"emptycol3\",\n",
    "             \"emptycol4\",\n",
    "             \"emptycol5\"\n",
    "            )"
   ]
  },
  {
   "cell_type": "code",
   "execution_count": 42,
   "metadata": {},
   "outputs": [
    {
     "name": "stdout",
     "output_type": "stream",
     "text": [
      "root\n",
      " |-- OccupancyDateTime: string (nullable = true)\n",
      " |-- PaidOccupancy: integer (nullable = true)\n",
      " |-- SourceElementKey: integer (nullable = true)\n",
      " |-- Location: string (nullable = true)\n",
      "\n"
     ]
    }
   ],
   "source": [
    "df.printSchema()"
   ]
  },
  {
   "cell_type": "code",
   "execution_count": 43,
   "metadata": {},
   "outputs": [],
   "source": [
    "from pyspark.sql import functions as F"
   ]
  },
  {
   "cell_type": "code",
   "execution_count": 44,
   "metadata": {},
   "outputs": [],
   "source": [
    "df = df.withColumn(\"OccupancyDateTime\", F.to_timestamp(df.OccupancyDateTime, format=\"mm/dd/yyyy hh:mm:ss a\"))"
   ]
  },
  {
   "cell_type": "code",
   "execution_count": 45,
   "metadata": {},
   "outputs": [
    {
     "name": "stdout",
     "output_type": "stream",
     "text": [
      "root\n",
      " |-- OccupancyDateTime: timestamp (nullable = true)\n",
      " |-- PaidOccupancy: integer (nullable = true)\n",
      " |-- SourceElementKey: integer (nullable = true)\n",
      " |-- Location: string (nullable = true)\n",
      "\n"
     ]
    }
   ],
   "source": [
    "df.printSchema()"
   ]
  },
  {
   "cell_type": "code",
   "execution_count": null,
   "metadata": {},
   "outputs": [],
   "source": []
  }
 ],
 "metadata": {
  "kernelspec": {
   "display_name": "Python 2",
   "language": "python",
   "name": "python2"
  },
  "language_info": {
   "codemirror_mode": {
    "name": "ipython",
    "version": 2
   },
   "file_extension": ".py",
   "mimetype": "text/x-python",
   "name": "python",
   "nbconvert_exporter": "python",
   "pygments_lexer": "ipython2",
   "version": "2.7.12"
  }
 },
 "nbformat": 4,
 "nbformat_minor": 2
}
