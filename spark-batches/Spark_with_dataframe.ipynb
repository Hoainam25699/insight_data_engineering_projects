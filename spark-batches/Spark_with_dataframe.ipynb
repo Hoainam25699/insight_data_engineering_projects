{
 "cells": [
  {
   "cell_type": "code",
   "execution_count": 1,
   "metadata": {},
   "outputs": [],
   "source": [
    "from pyspark.sql import SparkSession\n",
    "spark = SparkSession \\\n",
    ".builder \\\n",
    ".appName(\"plops\") \\\n",
    ".getOrCreate()"
   ]
  },
  {
   "cell_type": "code",
   "execution_count": 2,
   "metadata": {},
   "outputs": [],
   "source": [
    "from collections import OrderedDict\n",
    "config_schema = OrderedDict()\n",
    "config_schema = [\n",
    "    ('timestamp', 'STRING'),\n",
    "    ('occupancy', 'INT'),\n",
    "    ('blockface_name', 'STRING'),\n",
    "    ('side_of_street', 'STRING'),\n",
    "    ('station_id', 'INT'),\n",
    "    ('time_limit_category', 'STRING'),\n",
    "    ('space_count', 'INT'),\n",
    "    ('area', 'STRING'),\n",
    "    ('subarea', 'STRING'),\n",
    "    ('rate', 'STRING'),\n",
    "    ('category', 'STRING'),\n",
    "    ('location', 'STRING'),\n",
    "    ('emptycol1','STRING'),\n",
    "    ('emptycol2','STRING'),\n",
    "    ('emptycol3','STRING'),\n",
    "    ('emptycol4','STRING'),\n",
    "    ('emptycol5','STRING')\n",
    "]\n"
   ]
  },
  {
   "cell_type": "code",
   "execution_count": 3,
   "metadata": {},
   "outputs": [
    {
     "data": {
      "text/plain": [
       "'timestamp STRING, occupancy INT, blockface_name STRING, side_of_street STRING, station_id INT, time_limit_category STRING, space_count INT, area STRING, subarea STRING, rate STRING, category STRING, location STRING, emptycol1 STRING, emptycol2 STRING, emptycol3 STRING, emptycol4 STRING, emptycol5 STRING'"
      ]
     },
     "execution_count": 3,
     "metadata": {},
     "output_type": "execute_result"
    }
   ],
   "source": [
    "schema = \", \".join([\"{} {}\".format(col, type) for col, type in config_schema])\n",
    "schema"
   ]
  },
  {
   "cell_type": "code",
   "execution_count": 4,
   "metadata": {},
   "outputs": [],
   "source": [
    "df = spark.read.csv(\n",
    "    #\"s3a://project.datasets/Last_48_hours.csv\", header=True, mode=\"DROPMALFORMED\", schema=schema\n",
    "    \"s3a://project.datasets/last_48h.csv.gz\", header=True, mode=\"DROPMALFORMED\", schema=schema\n",
    "    #\"s3a://project.datasets/2019-Paid-Parking-Occupancy.csv.gz\", header=True, mode=\"DROPMALFORMED\", schema=schema\n",
    ")"
   ]
  },
  {
   "cell_type": "code",
   "execution_count": 5,
   "metadata": {},
   "outputs": [
    {
     "data": {
      "text/plain": [
       "StructType(List(StructField(timestamp,StringType,true),StructField(occupancy,IntegerType,true),StructField(blockface_name,StringType,true),StructField(side_of_street,StringType,true),StructField(station_id,IntegerType,true),StructField(time_limit_category,StringType,true),StructField(space_count,IntegerType,true),StructField(area,StringType,true),StructField(subarea,StringType,true),StructField(rate,StringType,true),StructField(category,StringType,true),StructField(location,StringType,true),StructField(emptycol1,StringType,true),StructField(emptycol2,StringType,true),StructField(emptycol3,StringType,true),StructField(emptycol4,StringType,true),StructField(emptycol5,StringType,true)))"
      ]
     },
     "execution_count": 5,
     "metadata": {},
     "output_type": "execute_result"
    }
   ],
   "source": [
    "df.schema"
   ]
  },
  {
   "cell_type": "code",
   "execution_count": 6,
   "metadata": {},
   "outputs": [],
   "source": [
    "df = df.select(\"timestamp\", \"occupancy\", \"station_id\", \"location\")"
   ]
  },
  {
   "cell_type": "code",
   "execution_count": 7,
   "metadata": {},
   "outputs": [
    {
     "name": "stdout",
     "output_type": "stream",
     "text": [
      "root\n",
      " |-- timestamp: string (nullable = true)\n",
      " |-- occupancy: integer (nullable = true)\n",
      " |-- station_id: integer (nullable = true)\n",
      " |-- location: string (nullable = true)\n",
      "\n"
     ]
    }
   ],
   "source": [
    "df.printSchema()"
   ]
  },
  {
   "cell_type": "code",
   "execution_count": 8,
   "metadata": {},
   "outputs": [],
   "source": [
    "from pyspark.sql import functions as F"
   ]
  },
  {
   "cell_type": "code",
   "execution_count": 9,
   "metadata": {},
   "outputs": [],
   "source": [
    "df = df.withColumn(\"timestamp\", F.to_timestamp(df.timestamp, format=\"mm/dd/yyyy hh:mm:ss a\"))"
   ]
  },
  {
   "cell_type": "code",
   "execution_count": 10,
   "metadata": {},
   "outputs": [
    {
     "name": "stdout",
     "output_type": "stream",
     "text": [
      "root\n",
      " |-- timestamp: timestamp (nullable = true)\n",
      " |-- occupancy: integer (nullable = true)\n",
      " |-- station_id: integer (nullable = true)\n",
      " |-- location: string (nullable = true)\n",
      "\n"
     ]
    }
   ],
   "source": [
    "df.printSchema()"
   ]
  },
  {
   "cell_type": "code",
   "execution_count": 11,
   "metadata": {},
   "outputs": [],
   "source": [
    "df = df.withColumn('day_of_week', F.dayofweek(df.timestamp))\n",
    "df = df.withColumn('hour', F.hour(df.timestamp))"
   ]
  },
  {
   "cell_type": "code",
   "execution_count": 12,
   "metadata": {},
   "outputs": [],
   "source": [
    "#Create New DataFrame\n",
    "# from pyspark.sql.types import (StructType,\n",
    "#                                TimestampType,\n",
    "#                                IntegerType,\n",
    "#                                DoubleType)\n",
    "# field = [\n",
    "#     StructField('DateTime', TimestampType(), True),\n",
    "#     StructField('StationID', StringType(), True),\n",
    "#     StructField('AveOpenSpots', IntegerType(), True),\n",
    "#     StructField('AveOpenRate', DoubleType(), True),\n",
    "#     StructField('GroupByPeriod', StringType(), True),\n",
    "#     StructField('Location', StringType(), True)\n",
    "# ]\n",
    "# new_schema = StructType(field)\n",
    "# df_ave = sqlContext.createDataFrame(sc.emptyRDD(), new_schema)\n",
    "# df_ave.show()"
   ]
  },
  {
   "cell_type": "code",
   "execution_count": 13,
   "metadata": {},
   "outputs": [
    {
     "name": "stdout",
     "output_type": "stream",
     "text": [
      "root\n",
      " |-- timestamp: timestamp (nullable = true)\n",
      " |-- occupancy: integer (nullable = true)\n",
      " |-- station_id: integer (nullable = true)\n",
      " |-- location: string (nullable = true)\n",
      " |-- day_of_week: integer (nullable = true)\n",
      " |-- hour: integer (nullable = true)\n",
      "\n"
     ]
    }
   ],
   "source": [
    "df.printSchema()"
   ]
  },
  {
   "cell_type": "code",
   "execution_count": 14,
   "metadata": {},
   "outputs": [],
   "source": [
    "import os\n",
    "from pyspark.sql import DataFrameWriter\n",
    "my_writer = DataFrameWriter(df)"
   ]
  },
  {
   "cell_type": "code",
   "execution_count": 15,
   "metadata": {},
   "outputs": [],
   "source": [
    "database_name = 'occupancy'\n",
    "hostname = 'ec2-52-39-242-144.us-west-2.compute.amazonaws.com'\n",
    "url_connect = \"jdbc:postgresql://{hostname}:5432/{db}\".format(hostname=hostname, db=database_name)\n",
    "\n",
    "table = \"hist_occupancy\"\n",
    "#table = \"spark_output_occupancy\"\n",
    "mode = \"overwrite\"\n",
    "properties = {\"user\":\"spark_user\", \n",
    "              \"password\":os.environ['POSTGRES_PASS'],\n",
    "              \"driver\": \"org.postgresql.Driver\"\n",
    "             }"
   ]
  },
  {
   "cell_type": "code",
   "execution_count": 16,
   "metadata": {},
   "outputs": [],
   "source": [
    "my_writer.jdbc(url_connect, table, mode, properties)"
   ]
  },
  {
   "cell_type": "code",
   "execution_count": 64,
   "metadata": {},
   "outputs": [
    {
     "data": {
      "text/plain": [
       "'data_id INT, meter_id INT, transaction_id INT, transaction_timestamp STRING, amount_usd INT, usernumber STRING, payment_mean STRING, paid_duration INT, station_id INT, year INT, month INT, vendor STRING'"
      ]
     },
     "execution_count": 64,
     "metadata": {},
     "output_type": "execute_result"
    }
   ],
   "source": [
    "from collections import OrderedDict\n",
    "config_schema = OrderedDict()\n",
    "config_schema = [\n",
    "    ('data_id', 'INT'),\n",
    "    ('meter_id', 'INT'),\n",
    "    ('transaction_id', 'INT'),\n",
    "    ('transaction_timestamp', 'STRING'),\n",
    "    ('amount_usd', 'INT'),\n",
    "    ('usernumber', 'STRING'),\n",
    "    ('payment_mean', 'STRING'),\n",
    "    ('paid_duration', 'INT'),\n",
    "    ('station_id', 'INT'),\n",
    "    ('year', 'INT'),\n",
    "    ('month', 'INT'),\n",
    "    ('vendor', 'STRING'),\n",
    "]\n",
    "schema = \", \".join([\"{} {}\".format(col, type) for col, type in config_schema])\n",
    "schema"
   ]
  },
  {
   "cell_type": "code",
   "execution_count": 65,
   "metadata": {},
   "outputs": [
    {
     "name": "stdout",
     "output_type": "stream",
     "text": [
      "root\n",
      " |-- data_id: integer (nullable = true)\n",
      " |-- meter_id: integer (nullable = true)\n",
      " |-- transaction_id: integer (nullable = true)\n",
      " |-- transaction_timestamp: string (nullable = true)\n",
      " |-- amount_usd: integer (nullable = true)\n",
      " |-- usernumber: string (nullable = true)\n",
      " |-- payment_mean: string (nullable = true)\n",
      " |-- paid_duration: integer (nullable = true)\n",
      " |-- station_id: integer (nullable = true)\n",
      " |-- year: integer (nullable = true)\n",
      " |-- month: integer (nullable = true)\n",
      " |-- vendor: string (nullable = true)\n",
      "\n",
      "+--------+--------+--------------+---------------------+----------+----------+------------+-------------+----------+----+-----+------+\n",
      "| data_id|meter_id|transaction_id|transaction_timestamp|amount_usd|usernumber|payment_mean|paid_duration|station_id|year|month|vendor|\n",
      "+--------+--------+--------------+---------------------+----------+----------+------------+-------------+----------+----+-----+------+\n",
      "|26060471|19337010|     652611123|  01/12/2019 08:35:42|        19|      NULL| CREDIT CARD|        20780|     10873|2019|    1|  null|\n",
      "+--------+--------+--------------+---------------------+----------+----------+------------+-------------+----------+----+-----+------+\n",
      "only showing top 1 row\n",
      "\n"
     ]
    }
   ],
   "source": [
    "tr_df = spark.read.csv(\n",
    "    \"s3a://project.datasets/transactions/01182019.csv.gz\", header=True, mode=\"PERMISSIVE\", schema=schema\n",
    ")\n",
    "tr_df.printSchema()\n",
    "tr_df.show(1)"
   ]
  },
  {
   "cell_type": "code",
   "execution_count": 67,
   "metadata": {},
   "outputs": [
    {
     "name": "stdout",
     "output_type": "stream",
     "text": [
      "root\n",
      " |-- transaction_timestamp: timestamp (nullable = true)\n",
      " |-- station_id: integer (nullable = true)\n",
      " |-- paid_duration: integer (nullable = true)\n",
      " |-- amount_usd: integer (nullable = true)\n",
      "\n"
     ]
    }
   ],
   "source": [
    "tr_df = tr_df.select('transaction_timestamp','station_id','paid_duration','amount_usd')\n",
    "tr_df = tr_df.withColumn(\"transaction_timestamp\", F.to_timestamp(tr_df.transaction_timestamp, format=\"MM/dd/yyyy HH:mm:ss\"))\n",
    "tr_df.printSchema()"
   ]
  },
  {
   "cell_type": "code",
   "execution_count": 35,
   "metadata": {},
   "outputs": [],
   "source": [
    "database_name = 'occupancy'\n",
    "hostname = 'ec2-52-39-242-144.us-west-2.compute.amazonaws.com'\n",
    "url_connect = \"jdbc:postgresql://{hostname}:5432/{db}\".format(hostname=hostname, db=database_name)\n",
    "\n",
    "properties = {\"user\":\"spark_user\", \n",
    "              \"password\":os.environ['POSTGRES_PASS'],\n",
    "              \"driver\": \"org.postgresql.Driver\"\n",
    "             }"
   ]
  },
  {
   "cell_type": "code",
   "execution_count": 41,
   "metadata": {},
   "outputs": [],
   "source": [
    "table = \"dim_stations\"\n",
    "dim_df = spark.read.jdbc(url=url_connect, table=table, properties=properties)"
   ]
  },
  {
   "cell_type": "code",
   "execution_count": 42,
   "metadata": {},
   "outputs": [
    {
     "name": "stdout",
     "output_type": "stream",
     "text": [
      "root\n",
      " |-- station_id: integer (nullable = true)\n",
      " |-- space_count: integer (nullable = true)\n",
      " |-- location: string (nullable = true)\n",
      " |-- station_address: string (nullable = true)\n",
      " |-- side: string (nullable = true)\n",
      " |-- block_nbr: integer (nullable = true)\n",
      " |-- parking_category: string (nullable = true)\n",
      " |-- wkd_rate1: double (nullable = true)\n",
      " |-- wkd_start1: string (nullable = true)\n",
      " |-- wkd_end1: string (nullable = true)\n",
      " |-- wkd_rate2: double (nullable = true)\n",
      " |-- wkd_start2: string (nullable = true)\n",
      " |-- wkd_end2: string (nullable = true)\n",
      " |-- wkd_rate3: double (nullable = true)\n",
      " |-- wkd_start3: string (nullable = true)\n",
      " |-- wkd_end3: string (nullable = true)\n",
      " |-- sat_rate1: double (nullable = true)\n",
      " |-- sat_start1: string (nullable = true)\n",
      " |-- sat_end1: string (nullable = true)\n",
      " |-- sat_rate2: double (nullable = true)\n",
      " |-- sat_start2: string (nullable = true)\n",
      " |-- sat_end2: string (nullable = true)\n",
      " |-- sat_rate3: double (nullable = true)\n",
      " |-- sat_start3: string (nullable = true)\n",
      " |-- sat_end3: string (nullable = true)\n",
      " |-- parking_time_limit: double (nullable = true)\n",
      " |-- subarea: string (nullable = true)\n",
      " |-- effective_date_start: date (nullable = true)\n",
      " |-- effective_date_end: date (nullable = true)\n",
      " |-- location_geom: string (nullable = true)\n",
      "\n"
     ]
    }
   ],
   "source": [
    "dim_df.printSchema()"
   ]
  },
  {
   "cell_type": "code",
   "execution_count": 43,
   "metadata": {},
   "outputs": [
    {
     "name": "stdout",
     "output_type": "stream",
     "text": [
      "+----------+-----------+--------------------+--------------------+----+---------+----------------+---------+----------+--------+---------+----------+--------+---------+----------+--------+---------+----------+--------+---------+----------+--------+---------+----------+--------+------------------+-------+--------------------+------------------+--------------------+\n",
      "|station_id|space_count|            location|     station_address|side|block_nbr|parking_category|wkd_rate1|wkd_start1|wkd_end1|wkd_rate2|wkd_start2|wkd_end2|wkd_rate3|wkd_start3|wkd_end3|sat_rate1|sat_start1|sat_end1|sat_rate2|sat_start2|sat_end2|sat_rate3|sat_start3|sat_end3|parking_time_limit|subarea|effective_date_start|effective_date_end|       location_geom|\n",
      "+----------+-----------+--------------------+--------------------+----+---------+----------------+---------+----------+--------+---------+----------+--------+---------+----------+--------+---------+----------+--------+---------+----------+--------+---------+----------+--------+------------------+-------+--------------------+------------------+--------------------+\n",
      "|     53138|         18|POINT (47.6203140...|6TH AVE N BETWEEN...|   E|      200|    Paid Parking|      1.0|      8 AM|   11 AM|      1.5|     11 AM|    6 PM|     null|      null|    null|      1.0|      8 AM|   11 AM|      1.5|     11 AM|    6 PM|     null|      null|    null|              10.0|   null|          2010-01-01|        3000-01-01|01010000207308000...|\n",
      "+----------+-----------+--------------------+--------------------+----+---------+----------------+---------+----------+--------+---------+----------+--------+---------+----------+--------+---------+----------+--------+---------+----------+--------+---------+----------+--------+------------------+-------+--------------------+------------------+--------------------+\n",
      "only showing top 1 row\n",
      "\n"
     ]
    }
   ],
   "source": [
    "dim_df.show(1)"
   ]
  },
  {
   "cell_type": "code",
   "execution_count": 68,
   "metadata": {},
   "outputs": [
    {
     "name": "stdout",
     "output_type": "stream",
     "text": [
      "+---------------------+----------+-------------+----------+\n",
      "|transaction_timestamp|station_id|paid_duration|amount_usd|\n",
      "+---------------------+----------+-------------+----------+\n",
      "|  2019-01-12 08:35:42|     10873|        20780|        19|\n",
      "+---------------------+----------+-------------+----------+\n",
      "only showing top 1 row\n",
      "\n"
     ]
    }
   ],
   "source": [
    "tr_df.show(1)"
   ]
  },
  {
   "cell_type": "code",
   "execution_count": 46,
   "metadata": {},
   "outputs": [],
   "source": [
    "try:\n",
    "    tr_df.createTempView(\"streaming_occupancy\")\n",
    "except:\n",
    "    print('aready occupancy is exists')"
   ]
  },
  {
   "cell_type": "code",
   "execution_count": 79,
   "metadata": {},
   "outputs": [],
   "source": [
    "dim_df = dim_df.select('station_id')\n",
    "oc_df = dim_df.join(tr_df, [\"station_id\"], \"left\")"
   ]
  },
  {
   "cell_type": "code",
   "execution_count": 80,
   "metadata": {},
   "outputs": [
    {
     "name": "stdout",
     "output_type": "stream",
     "text": [
      "root\n",
      " |-- station_id: integer (nullable = true)\n",
      " |-- transaction_timestamp: timestamp (nullable = true)\n",
      " |-- paid_duration: integer (nullable = true)\n",
      " |-- amount_usd: integer (nullable = true)\n",
      "\n"
     ]
    }
   ],
   "source": [
    "oc_df.printSchema()"
   ]
  },
  {
   "cell_type": "code",
   "execution_count": 81,
   "metadata": {},
   "outputs": [
    {
     "data": {
      "text/plain": [
       "[Row(station_id=53138, transaction_timestamp=datetime.datetime(2019, 1, 18, 6, 40), paid_duration=27600, amount_usd=10),\n",
       " Row(station_id=53138, transaction_timestamp=datetime.datetime(2019, 1, 18, 8, 45, 40), paid_duration=29087, amount_usd=11),\n",
       " Row(station_id=53138, transaction_timestamp=datetime.datetime(2019, 1, 18, 9, 46), paid_duration=3600, amount_usd=1),\n",
       " Row(station_id=53138, transaction_timestamp=datetime.datetime(2019, 1, 17, 6, 0), paid_duration=25200, amount_usd=9),\n",
       " Row(station_id=53138, transaction_timestamp=datetime.datetime(2019, 1, 17, 8, 44, 24), paid_duration=14712, amount_usd=5),\n",
       " Row(station_id=53138, transaction_timestamp=datetime.datetime(2019, 1, 15, 11, 1, 27), paid_duration=4800, amount_usd=2),\n",
       " Row(station_id=53138, transaction_timestamp=datetime.datetime(2019, 1, 15, 13, 43, 42), paid_duration=2400, amount_usd=1),\n",
       " Row(station_id=53138, transaction_timestamp=datetime.datetime(2019, 1, 15, 7, 57, 21), paid_duration=3600, amount_usd=1),\n",
       " Row(station_id=53138, transaction_timestamp=datetime.datetime(2019, 1, 15, 8, 29, 57), paid_duration=31801, amount_usd=12),\n",
       " Row(station_id=53138, transaction_timestamp=datetime.datetime(2019, 1, 15, 14, 49, 35), paid_duration=7200, amount_usd=3)]"
      ]
     },
     "execution_count": 81,
     "metadata": {},
     "output_type": "execute_result"
    }
   ],
   "source": [
    "oc_df.take(10)"
   ]
  },
  {
   "cell_type": "code",
   "execution_count": null,
   "metadata": {},
   "outputs": [],
   "source": []
  }
 ],
 "metadata": {
  "kernelspec": {
   "display_name": "Python 2",
   "language": "python",
   "name": "python2"
  },
  "language_info": {
   "codemirror_mode": {
    "name": "ipython",
    "version": 2
   },
   "file_extension": ".py",
   "mimetype": "text/x-python",
   "name": "python",
   "nbconvert_exporter": "python",
   "pygments_lexer": "ipython2",
   "version": "2.7.12"
  }
 },
 "nbformat": 4,
 "nbformat_minor": 2
}
